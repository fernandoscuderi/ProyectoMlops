{
 "cells": [
  {
   "cell_type": "code",
   "execution_count": null,
   "metadata": {},
   "outputs": [],
   "source": [
    "#Importo librerias a utilizar\n",
    "import pandas as pd\n",
    "import numpy as np\n",
    "import ast\n",
    "from datetime import datetime\n",
    "import calendar\n",
    "import matplotlib.pyplot as plt\n",
    "import seaborn as sns\n",
    "import missingno as msno\n",
    "from wordcloud import WordCloud, STOPWORDS\n",
    "from sklearn.feature_extraction.text import TfidfVectorizer\n",
    "from sklearn.metrics.pairwise import cosine_similarity\n",
    "import warnings\n",
    "warnings.filterwarnings(\"ignore\")"
   ]
  },
  {
   "cell_type": "code",
   "execution_count": null,
   "metadata": {},
   "outputs": [],
   "source": [
    "#Visualizo el formato del dataframe con los 5 primeros registros\n",
    "df = pd.read_csv('df_limpio.csv')\n",
    "df.head(5)"
   ]
  },
  {
   "cell_type": "code",
   "execution_count": null,
   "metadata": {},
   "outputs": [],
   "source": [
    "print(f\"El dataframe contiene {df.shape[0]} columnas y {df.shape[1]} filas\")"
   ]
  },
  {
   "cell_type": "code",
   "execution_count": null,
   "metadata": {},
   "outputs": [],
   "source": [
    "#Visualizo los valores faltantes de las columnas del dataframe con missingno\n",
    "msno.bar(df)\n",
    "plt.show()"
   ]
  },
  {
   "cell_type": "code",
   "execution_count": null,
   "metadata": {},
   "outputs": [],
   "source": [
    "dfML = pd.read_csv(\"df_limpio.csv\")\n",
    "dfML.info()"
   ]
  },
  {
   "cell_type": "code",
   "execution_count": null,
   "metadata": {},
   "outputs": [],
   "source": [
    "#Creo columnas de MESES y DIAS para utilizar en visualizaciones\n",
    "\n",
    "dfML[\"release_date\"] = pd.to_datetime(dfML[\"release_date\"])\n",
    "dfML[\"release_month\"] = dfML[\"release_date\"].dt.month\n",
    "dfML[\"release_day\"] = dfML[\"release_date\"].dt.day_name()\n",
    "\n",
    "dias = {\"Monday\": \"Lunes\",\n",
    "    \"Tuesday\": \"Martes\",\n",
    "    \"Wednesday\": \"Miercoles\",\n",
    "    \"Thursday\" : \"Jueves\",\n",
    "    \"Friday\": \"Viernes\",\n",
    "    \"Saturday\":\"Sabado\",\n",
    "    \"Sunday\": \"Domingo\"}\n",
    "\n",
    "dfML[\"release_day\"] = dfML[\"release_day\"].map(dias)"
   ]
  },
  {
   "cell_type": "code",
   "execution_count": null,
   "metadata": {},
   "outputs": [],
   "source": [
    "#Grafico la cantidad de peliculas estrenadas en cada dia\n",
    "conteo_dias = dfML[\"release_day\"].value_counts().sort_index()\n",
    "order = [\"Domingo\", \"Lunes\", \"Martes\", \"Miercoles\", \"Jueves\", \"Viernes\", \"Sabado\"]\n",
    "\n",
    "sns.barplot(x=conteo_dias.index, y=conteo_dias.values, order=order)\n",
    "plt.xlabel(\"Dia\")\n",
    "plt.ylabel(\"Cantidad de Registros\")\n",
    "plt.title(\"Cantidad de Registros por Mes\")\n",
    "plt.show()"
   ]
  },
  {
   "cell_type": "code",
   "execution_count": null,
   "metadata": {},
   "outputs": [],
   "source": [
    "#Grafico la cantidad de peliculas estrenadas en cada mes\n",
    "conteo_meses = dfML[\"release_month\"].value_counts().sort_index()\n",
    "sns.barplot(x=conteo_meses.index, y=conteo_meses.values)\n",
    "plt.xlabel(\"Mes\")\n",
    "plt.ylabel(\"Cantidad de Registros\")\n",
    "plt.title(\"Cantidad de Registros por Mes\")\n",
    "plt.show()"
   ]
  },
  {
   "cell_type": "code",
   "execution_count": null,
   "metadata": {},
   "outputs": [],
   "source": [
    "#Visualizo en un dataframe el director con mayor cantidad de peliculas y su retorno total\n",
    "df_director = dfML.groupby(str(\"crew\")).agg({'return': 'sum', 'title': 'count'})\n",
    "df_director = df_director.sort_values('title', ascending=False)\n",
    "df_director = df_director.reset_index() #La columna crew queda como indice, la devuelvo a su formato de columna con su nombre\n",
    "df_director = df_director.rename(columns={'index': 'crew'})\n",
    "df_director = df_director.drop(df_director[df_director['crew'] == \"[]\"].index) #elimino de la visualizacion las listas vacias en crew\n",
    "df_director.head(10)"
   ]
  },
  {
   "cell_type": "code",
   "execution_count": null,
   "metadata": {},
   "outputs": [],
   "source": [
    "#Visualizo en un dataframe los actores con mayor cantidad de peiculas y el promedio de votos\n",
    "df_actores = df.explode('cast')\n",
    "df_actores = dfML.groupby((\"cast\")).agg({'vote_average': 'mean', 'title': 'count'})\n",
    "df_actores = df_actores.sort_values('title', ascending=False)\n",
    "df_actores = df_actores.reset_index() #La columna cast queda como indice, la devuelvo a su formato de columna con su nombre\n",
    "df_actores = df_actores.rename(columns={'index': 'cast'})\n",
    "df_actores = df_actores.drop(df_actores[df_actores['cast'] == \"[]\"].index) #elimino de la visualizacion las listas vacias en cast\n",
    "df_actores.head(10)"
   ]
  },
  {
   "cell_type": "code",
   "execution_count": null,
   "metadata": {},
   "outputs": [],
   "source": [
    "#Visualizo las peliculas con mayor promedio de votos, con genero y actores\n",
    "df_peliculas = dfML.groupby((\"title\")).agg({'vote_average': 'mean'})\n",
    "df_peliculas = df_peliculas.sort_values('vote_average', ascending=False)\n",
    "df_peliculas = df_peliculas.reset_index() #La columna cast queda como indice, la devuelvo a su formato de columna con su nombre\n",
    "df_peliculas = df_peliculas.rename(columns={'index': 'title'})\n",
    "df_peliculas[\"genres\"] = dfML[\"genres\"]\n",
    "df_peliculas[\"cast\"] = dfML[\"cast\"]\n",
    "df_peliculas"
   ]
  },
  {
   "cell_type": "code",
   "execution_count": null,
   "metadata": {},
   "outputs": [],
   "source": [
    "#Visualizo los 10 paises con mayores producciones \n",
    "\n",
    "df_paises = dfML.explode('production_countries')\n",
    "df_paises = dfML.groupby((\"production_countries\")).agg({'title': 'count'})\n",
    "df_paises = df_paises.sort_values('title', ascending=False)\n",
    "df_paises = df_paises.reset_index()\n",
    "df_paises = df_paises.rename(columns={'index': 'production_countries'})\n",
    "df_paises = df_paises.drop(df_paises[df_paises['production_countries'] == \"[]\"].index)\n",
    "df_paises = df_paises[:10]\n",
    "df_paises"
   ]
  },
  {
   "cell_type": "code",
   "execution_count": null,
   "metadata": {},
   "outputs": [],
   "source": [
    "#Preparo las columnas title y overview para visualizar la nube de palabras de cada una\n",
    "dfML[\"title\"] = dfML[\"title\"].astype(\"str\")\n",
    "dfML[\"overview\"] = dfML[\"overview\"].astype(\"str\")\n",
    "titulos = \" \".join(dfML[\"title\"])\n",
    "overviews = \" \".join(dfML[\"overview\"])"
   ]
  },
  {
   "cell_type": "code",
   "execution_count": null,
   "metadata": {},
   "outputs": [],
   "source": [
    "#Visualizo la nube de palabras mas destacadas en la columna titulos\n",
    "wordcloudTitulos = WordCloud(stopwords=STOPWORDS, background_color=\"yellow\", height=2000, width=2500).generate(titulos)\n",
    "plt.figure(figsize=(16,8))\n",
    "plt.imshow(wordcloudTitulos)\n",
    "plt.axis(\"off\")\n",
    "plt.show()"
   ]
  },
  {
   "cell_type": "code",
   "execution_count": null,
   "metadata": {},
   "outputs": [],
   "source": [
    "#Visualizo la nube de palabras mas destacadas en la columna overviews\n",
    "wordcloudOverview = WordCloud(stopwords=STOPWORDS, background_color=\"yellow\", height=2000, width=2500).generate(overviews)\n",
    "plt.figure(figsize=(16,8))\n",
    "plt.imshow(wordcloudOverview)\n",
    "plt.axis(\"off\")\n",
    "plt.show()"
   ]
  }
 ],
 "metadata": {
  "language_info": {
   "name": "python"
  },
  "orig_nbformat": 4
 },
 "nbformat": 4,
 "nbformat_minor": 2
}
